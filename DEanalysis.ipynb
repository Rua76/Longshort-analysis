// Download DESeq2
if (!requireNamespace("BiocManager", quietly = TRUE))
    install.packages("BiocManager")
BiocManager::install("DESeq2")

//check library
library(DESeq2)
library(stats)
library(ggplot2)

//modify count table
countchart <- read.csv(file = '/content/m1+m2countchart_int.csv')
countchart_4 <- countchart[,-1]
rownames(countchart_4) <- countchart[,1]

// create coldata
coldata <- data.frame(condition = factor(rep(c('healthy', 'cancer'), each = 2), levels = c('healthy', 'cancer')))
//prepare dds
dds <- DESeqDataSetFromMatrix(countData = countchart_4, colData = coldata, design= ~condition)
//calculate fold change
dds1 <- DESeq(dds, fitType = 'mean', minReplicatesForReplace = 7, parallel = FALSE)
res <- results(dds1, contrast = c('condition', 'cancer', 'healthy'))
//export fold change data to a new table
res1 <- data.frame(res, stringsAsFactors = FALSE, check.names = FALSE)
write.table(res1, 'control_treat.DESeq2.txt', col.names = NA, sep = '\t', quote = FALSE)

//filtering differential expressed genes
res1 <- res1[order(res1$padj, res1$log2FoldChange, decreasing = c(FALSE, TRUE)), ]

//log2FC≥1 & padj<0.01 labeled as up, representing significantly up-regulated genes
//log2FC≤-1 & padj<0.01 labeled as down, representing significantly down-regulated genes
#其余标识 none，代表非差异的基因
res1[which(res1$log2FoldChange >= 1 & res1$padj < 0.01),'sig'] <- 'up'
res1[which(res1$log2FoldChange <= -1 & res1$padj < 0.01),'sig'] <- 'down'
res1[which(abs(res1$log2FoldChange) <= 1 | res1$padj >= 0.01),'sig'] <- 'none'

#输出选择的差异基因总表
res1_select <- subset(res1, sig %in% c('up', 'down'))
write.table(res1_select, file = 'control_treat.DESeq2.select.txt', sep = '\t', col.names = NA, quote = FALSE)

#根据 up 和 down 分开输出
res1_up <- subset(res1, sig == 'up')
res1_down <- subset(res1, sig == 'down')

write.table(res1_up, file = 'control_treat.DESeq2.up.txt', sep = '\t', col.names = NA, quote = FALSE)
write.table(res1_down, file = 'control_treat.DESeq2.down.txt', sep = '\t', col.names = NA, quote = FALSE)
