//These method references https://www.jianshu.com/p/b5541d695108, 
//https://github.com/StatBiomed/GenomeScienceCourse/blob/master/assignments/Assignment3_BBMS3009.ipynb

// Download DESeq2
if (!requireNamespace("BiocManager", quietly = TRUE))
    install.packages("BiocManager")
BiocManager::install("DESeq2")

//check library
library(DESeq2)
library(stats)
library(ggplot2)

//modify count table
countchart <- read.csv(file = '/content/m1+m2countchart_int.csv')
countchart_4 <- countchart[,-1]
rownames(countchart_4) <- countchart[,1]

// create coldata
coldata <- data.frame(condition = factor(rep(c('healthy', 'cancer'), each = 2), levels = c('healthy', 'cancer')))
//prepare dds
dds <- DESeqDataSetFromMatrix(countData = countchart_4, colData = coldata, design= ~condition)
//calculate fold change
dds1 <- DESeq(dds, fitType = 'mean', minReplicatesForReplace = 7, parallel = FALSE)
res <- results(dds1, contrast = c('condition', 'cancer', 'healthy'))
//export fold change data to a new table
res1 <- data.frame(res, stringsAsFactors = FALSE, check.names = FALSE)
write.table(res1, 'control_treat.DESeq2.txt', col.names = NA, sep = '\t', quote = FALSE)

//filtering differential expressed genes
res1 <- res1[order(res1$padj, res1$log2FoldChange, decreasing = c(FALSE, TRUE)), ]

//log2FC≥1 & padj<0.01 labeled as up, representing significantly up-regulated genes
//log2FC≤-1 & padj<0.01 labeled as down, representing significantly down-regulated genes
//others labeled as none, representing non-regulated genes
res1[which(res1$log2FoldChange >= 1 & res1$padj < 0.01),'sig'] <- 'up'
res1[which(res1$log2FoldChange <= -1 & res1$padj < 0.01),'sig'] <- 'down'
res1[which(abs(res1$log2FoldChange) <= 1 | res1$padj >= 0.01),'sig'] <- 'none'

//export overview on differential expressed genes
res1_select <- subset(res1, sig %in% c('up', 'down'))
write.table(res1_select, file = 'control_treat.DESeq2.select.txt', sep = '\t', col.names = NA, quote = FALSE)

//export gene based on up/down regulated
res1_up <- subset(res1, sig == 'up')
res1_down <- subset(res1, sig == 'down')

write.table(res1_up, file = 'control_treat.DESeq2.up.txt', sep = '\t', col.names = NA, quote = FALSE)
write.table(res1_down, file = 'control_treat.DESeq2.down.txt', sep = '\t', col.names = NA, quote = FALSE)

//volcano plot
library(ggplot2)

//x axis = log2FoldChange，y axis = -log10(padj)
p <- ggplot(data = res1, aes(x = log2FoldChange, y = -log10(padj), color = sig)) +
geom_point(size = 1) +  //绘制散点图
scale_color_manual(values = c('red', 'gray', 'green'), limits = c('up', 'none', 'down')) +  //customize dot color
labs(x = 'log2 Fold Change', y = '-log10 adjust p-value', title = 'control vs treat', color = '') +  //title of axis
theme(plot.title = element_text(hjust = 0.5, size = 14), panel.grid = element_blank(), 
    panel.background = element_rect(color = 'black', fill = 'transparent'), 
    legend.key = element_rect(fill = 'transparent')) +
geom_vline(xintercept = c(-1, 1), lty = 3, color = 'black') +  //threshold
geom_hline(yintercept = 2, lty = 3, color = 'black') +
xlim(-12, 12) + ylim(0, 35)  //define boundaries

//generate volcano plot
p
